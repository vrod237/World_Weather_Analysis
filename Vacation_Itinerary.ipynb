{
 "cells": [
  {
   "cell_type": "code",
   "execution_count": 22,
   "metadata": {},
   "outputs": [],
   "source": [
    "# Import the dependencies.\n",
    "import pandas as pd\n",
    "import gmaps\n",
    "import requests\n",
    "import numpy\n",
    "# Import the API key\n",
    "from config import g_key"
   ]
  },
  {
   "cell_type": "code",
   "execution_count": 23,
   "metadata": {},
   "outputs": [],
   "source": [
    "# Configure gmaps to use API key.\n",
    "gmaps.configure(api_key=g_key)"
   ]
  },
  {
   "cell_type": "code",
   "execution_count": 24,
   "metadata": {},
   "outputs": [
    {
     "data": {
      "text/html": [
       "<div>\n",
       "<style scoped>\n",
       "    .dataframe tbody tr th:only-of-type {\n",
       "        vertical-align: middle;\n",
       "    }\n",
       "\n",
       "    .dataframe tbody tr th {\n",
       "        vertical-align: top;\n",
       "    }\n",
       "\n",
       "    .dataframe thead th {\n",
       "        text-align: right;\n",
       "    }\n",
       "</style>\n",
       "<table border=\"1\" class=\"dataframe\">\n",
       "  <thead>\n",
       "    <tr style=\"text-align: right;\">\n",
       "      <th></th>\n",
       "      <th>Unnamed: 0</th>\n",
       "      <th>City</th>\n",
       "      <th>Country</th>\n",
       "      <th>Max Temp</th>\n",
       "      <th>Current Description</th>\n",
       "      <th>Lat</th>\n",
       "      <th>Lng</th>\n",
       "      <th>Hotel Name</th>\n",
       "    </tr>\n",
       "  </thead>\n",
       "  <tbody>\n",
       "    <tr>\n",
       "      <th>0</th>\n",
       "      <td>0</td>\n",
       "      <td>Mandera</td>\n",
       "      <td>KE</td>\n",
       "      <td>78.08</td>\n",
       "      <td>scattered clouds</td>\n",
       "      <td>3.94</td>\n",
       "      <td>41.87</td>\n",
       "      <td>Kornesh Hotel and Lodging</td>\n",
       "    </tr>\n",
       "    <tr>\n",
       "      <th>1</th>\n",
       "      <td>24</td>\n",
       "      <td>Albany</td>\n",
       "      <td>US</td>\n",
       "      <td>82.99</td>\n",
       "      <td>clear sky</td>\n",
       "      <td>42.60</td>\n",
       "      <td>-73.97</td>\n",
       "      <td>NaN</td>\n",
       "    </tr>\n",
       "    <tr>\n",
       "      <th>2</th>\n",
       "      <td>28</td>\n",
       "      <td>Salalah</td>\n",
       "      <td>OM</td>\n",
       "      <td>80.60</td>\n",
       "      <td>drizzle</td>\n",
       "      <td>17.02</td>\n",
       "      <td>54.09</td>\n",
       "      <td>HAMDAN PLAZA HOTEL</td>\n",
       "    </tr>\n",
       "    <tr>\n",
       "      <th>3</th>\n",
       "      <td>30</td>\n",
       "      <td>Victoria</td>\n",
       "      <td>HK</td>\n",
       "      <td>88.00</td>\n",
       "      <td>few clouds</td>\n",
       "      <td>22.29</td>\n",
       "      <td>114.16</td>\n",
       "      <td>Mini Hotel Central</td>\n",
       "    </tr>\n",
       "    <tr>\n",
       "      <th>4</th>\n",
       "      <td>36</td>\n",
       "      <td>Rongcheng</td>\n",
       "      <td>CN</td>\n",
       "      <td>84.00</td>\n",
       "      <td>overcast clouds</td>\n",
       "      <td>30.63</td>\n",
       "      <td>117.85</td>\n",
       "      <td>Shell Shandong Liaocheng Development District ...</td>\n",
       "    </tr>\n",
       "  </tbody>\n",
       "</table>\n",
       "</div>"
      ],
      "text/plain": [
       "   Unnamed: 0       City Country  Max Temp Current Description    Lat     Lng  \\\n",
       "0           0    Mandera      KE     78.08    scattered clouds   3.94   41.87   \n",
       "1          24     Albany      US     82.99           clear sky  42.60  -73.97   \n",
       "2          28    Salalah      OM     80.60             drizzle  17.02   54.09   \n",
       "3          30   Victoria      HK     88.00          few clouds  22.29  114.16   \n",
       "4          36  Rongcheng      CN     84.00     overcast clouds  30.63  117.85   \n",
       "\n",
       "                                          Hotel Name  \n",
       "0                          Kornesh Hotel and Lodging  \n",
       "1                                                NaN  \n",
       "2                                 HAMDAN PLAZA HOTEL  \n",
       "3                                 Mini Hotel Central  \n",
       "4  Shell Shandong Liaocheng Development District ...  "
      ]
     },
     "execution_count": 24,
     "metadata": {},
     "output_type": "execute_result"
    }
   ],
   "source": [
    "# Store the CSV you saved created in part one into a DataFrame.\n",
    "city_data_df = pd.read_csv(\"WeatherPy_vacation.csv\")\n",
    "city_data_df.head()"
   ]
  },
  {
   "cell_type": "code",
   "execution_count": 31,
   "metadata": {},
   "outputs": [],
   "source": [
    "city1DF = city_data_df.loc[(city_data_df[\"City\"]==\"Hamilton\")]\n",
    "HamiltonDF = city1DF[[\"City\", \"Country\", \"Max Temp\", \"Current Description\", \"Lat\", \"Lng\", \"Hotel Name\"]].copy()\n",
    "\n",
    "city2DF = city_data_df.loc[(city_data_df[\"City\"]==\"Columbus\")]\n",
    "ColumbusDF = city2DF[[\"City\", \"Country\", \"Max Temp\", \"Current Description\", \"Lat\", \"Lng\", \"Hotel Name\"]].copy()\n",
    "\n",
    "city3DF = city_data_df.loc[(city_data_df[\"City\"]==\"Mayo\")]\n",
    "MayoDF = city3DF[[\"City\", \"Country\", \"Max Temp\", \"Current Description\", \"Lat\", \"Lng\", \"Hotel Name\"]].copy()\n",
    "\n",
    "city4DF = city_data_df.loc[(city_data_df[\"City\"]==\"Petersburg\")]\n",
    "PetersburgDF = city4DF[[\"City\", \"Country\", \"Max Temp\", \"Current Description\", \"Lat\", \"Lng\", \"Hotel Name\"]].copy()\n"
   ]
  },
  {
   "cell_type": "code",
   "execution_count": 32,
   "metadata": {},
   "outputs": [],
   "source": [
    "HamiltonTup = tuple(HamiltonDF.to_numpy()[0][4:6])\n",
    "ColumbusTup = tuple(ColumbusDF.to_numpy()[0][4:6])\n",
    "MayoTup = tuple(MayoDF.to_numpy()[0][4:6])\n",
    "PetersburgTup = tuple(PetersburgDF.to_numpy()[0][4:6])"
   ]
  },
  {
   "cell_type": "code",
   "execution_count": 33,
   "metadata": {},
   "outputs": [
    {
     "data": {
      "text/html": [
       "<div>\n",
       "<style scoped>\n",
       "    .dataframe tbody tr th:only-of-type {\n",
       "        vertical-align: middle;\n",
       "    }\n",
       "\n",
       "    .dataframe tbody tr th {\n",
       "        vertical-align: top;\n",
       "    }\n",
       "\n",
       "    .dataframe thead th {\n",
       "        text-align: right;\n",
       "    }\n",
       "</style>\n",
       "<table border=\"1\" class=\"dataframe\">\n",
       "  <thead>\n",
       "    <tr style=\"text-align: right;\">\n",
       "      <th></th>\n",
       "      <th>City</th>\n",
       "      <th>Country</th>\n",
       "      <th>Max Temp</th>\n",
       "      <th>Current Description</th>\n",
       "      <th>Lat</th>\n",
       "      <th>Lng</th>\n",
       "      <th>Hotel Name</th>\n",
       "    </tr>\n",
       "  </thead>\n",
       "  <tbody>\n",
       "    <tr>\n",
       "      <th>16</th>\n",
       "      <td>Hamilton</td>\n",
       "      <td>US</td>\n",
       "      <td>77.0</td>\n",
       "      <td>clear sky</td>\n",
       "      <td>39.18</td>\n",
       "      <td>-84.53</td>\n",
       "      <td>Six Acres Bed &amp; Breakfast</td>\n",
       "    </tr>\n",
       "    <tr>\n",
       "      <th>152</th>\n",
       "      <td>Columbus</td>\n",
       "      <td>US</td>\n",
       "      <td>77.0</td>\n",
       "      <td>broken clouds</td>\n",
       "      <td>39.96</td>\n",
       "      <td>-83.00</td>\n",
       "      <td>DoubleTree Suites by Hilton Hotel Columbus Dow...</td>\n",
       "    </tr>\n",
       "    <tr>\n",
       "      <th>104</th>\n",
       "      <td>Mayo</td>\n",
       "      <td>US</td>\n",
       "      <td>84.2</td>\n",
       "      <td>overcast clouds</td>\n",
       "      <td>38.89</td>\n",
       "      <td>-76.51</td>\n",
       "      <td>Resorts Resource Group International</td>\n",
       "    </tr>\n",
       "    <tr>\n",
       "      <th>148</th>\n",
       "      <td>Petersburg</td>\n",
       "      <td>US</td>\n",
       "      <td>84.2</td>\n",
       "      <td>clear sky</td>\n",
       "      <td>37.23</td>\n",
       "      <td>-77.40</td>\n",
       "      <td>Hilton Garden Inn Richmond South/Southpark</td>\n",
       "    </tr>\n",
       "  </tbody>\n",
       "</table>\n",
       "</div>"
      ],
      "text/plain": [
       "           City Country  Max Temp Current Description    Lat    Lng  \\\n",
       "16     Hamilton      US      77.0           clear sky  39.18 -84.53   \n",
       "152    Columbus      US      77.0       broken clouds  39.96 -83.00   \n",
       "104        Mayo      US      84.2     overcast clouds  38.89 -76.51   \n",
       "148  Petersburg      US      84.2           clear sky  37.23 -77.40   \n",
       "\n",
       "                                            Hotel Name  \n",
       "16                           Six Acres Bed & Breakfast  \n",
       "152  DoubleTree Suites by Hilton Hotel Columbus Dow...  \n",
       "104               Resorts Resource Group International  \n",
       "148         Hilton Garden Inn Richmond South/Southpark  "
      ]
     },
     "execution_count": 33,
     "metadata": {},
     "output_type": "execute_result"
    }
   ],
   "source": [
    "itineraryDF = pd.concat([HamiltonDF, ColumbusDF, MayoDF, PetersburgDF])\n",
    "itineraryDF"
   ]
  },
  {
   "cell_type": "code",
   "execution_count": 34,
   "metadata": {},
   "outputs": [],
   "source": [
    "# Get the maximum temperature.\n",
    "max_temp = itineraryDF[\"Max Temp\"]\n",
    "temps = []\n",
    "for temp in max_temp:\n",
    "    temps.append(max(temp, 0))"
   ]
  },
  {
   "cell_type": "code",
   "execution_count": 35,
   "metadata": {},
   "outputs": [],
   "source": [
    "info_box_template = \"\"\"\n",
    "<dl>\n",
    "<dt>Hotel Name</dt><dd>{Hotel Name}</dd>\n",
    "<dt>City</dt><dd>{City}</dd>\n",
    "<dt>Country</dt><dd>{Country}</dd>\n",
    "<dt>Current Weather</dt><dd>{Current Description} and {Max Temp}°F</dd>\n",
    "</dl>\n",
    "\"\"\""
   ]
  },
  {
   "cell_type": "code",
   "execution_count": 36,
   "metadata": {},
   "outputs": [],
   "source": [
    "hotel_info = [info_box_template.format(**row) for index, row in itineraryDF.iterrows()]"
   ]
  },
  {
   "cell_type": "code",
   "execution_count": 37,
   "metadata": {
    "scrolled": true
   },
   "outputs": [
    {
     "data": {
      "application/vnd.jupyter.widget-view+json": {
       "model_id": "d70a0c61c2c64d89a1b6c4886e08ca98",
       "version_major": 2,
       "version_minor": 0
      },
      "text/plain": [
       "Figure(layout=FigureLayout(height='420px'))"
      ]
     },
     "metadata": {},
     "output_type": "display_data"
    }
   ],
   "source": [
    "# add heatmap of temp for vacation spots\n",
    "locations = itineraryDF[[\"Lat\", \"Lng\"]]\n",
    "max_temp = itineraryDF[\"Max Temp\"]\n",
    "fig = gmaps.figure(center=(30.0,31.0), zoom_level=1.5)\n",
    "\n",
    "travelRoute = gmaps.directions_layer((HamiltonTup),(PetersburgTup), waypoints=[(ColumbusTup), (MayoTup)], travel_mode='DRIVING')\n",
    "\n",
    "fig.add_layer(travelRoute)\n",
    "\n",
    "fig"
   ]
  },
  {
   "cell_type": "code",
   "execution_count": 38,
   "metadata": {
    "scrolled": true
   },
   "outputs": [
    {
     "data": {
      "application/vnd.jupyter.widget-view+json": {
       "model_id": "ba05e92365034e65a6efe1df2897ef67",
       "version_major": 2,
       "version_minor": 0
      },
      "text/plain": [
       "Figure(layout=FigureLayout(height='420px'))"
      ]
     },
     "metadata": {},
     "output_type": "display_data"
    }
   ],
   "source": [
    "# add heatmap of temp for vacation spots\n",
    "locations = itineraryDF[[\"Lat\", \"Lng\"]]\n",
    "max_temp = itineraryDF[\"Max Temp\"]\n",
    "fig = gmaps.figure(center=(30.0,31.0), zoom_level=.5)\n",
    "\n",
    "marker_layer = gmaps.marker_layer(locations, info_box_content=hotel_info)\n",
    "\n",
    "fig.add_layer(marker_layer)\n",
    "\n",
    "fig"
   ]
  },
  {
   "cell_type": "code",
   "execution_count": null,
   "metadata": {},
   "outputs": [],
   "source": []
  }
 ],
 "metadata": {
  "kernelspec": {
   "display_name": "PythonData",
   "language": "python",
   "name": "pythondata"
  },
  "language_info": {
   "codemirror_mode": {
    "name": "ipython",
    "version": 3
   },
   "file_extension": ".py",
   "mimetype": "text/x-python",
   "name": "python",
   "nbconvert_exporter": "python",
   "pygments_lexer": "ipython3",
   "version": "3.8.1"
  }
 },
 "nbformat": 4,
 "nbformat_minor": 4
}
