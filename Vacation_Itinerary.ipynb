{
 "cells": [
  {
   "cell_type": "code",
   "execution_count": 1,
   "metadata": {},
   "outputs": [],
   "source": [
    "# Import the dependencies.\n",
    "import pandas as pd\n",
    "import gmaps\n",
    "import requests\n",
    "import numpy\n",
    "# Import the API key\n",
    "from config import g_key"
   ]
  },
  {
   "cell_type": "code",
   "execution_count": 2,
   "metadata": {},
   "outputs": [],
   "source": [
    "# Configure gmaps to use API key.\n",
    "gmaps.configure(api_key=g_key)"
   ]
  },
  {
   "cell_type": "code",
   "execution_count": 3,
   "metadata": {},
   "outputs": [
    {
     "data": {
      "text/html": [
       "<div>\n",
       "<style scoped>\n",
       "    .dataframe tbody tr th:only-of-type {\n",
       "        vertical-align: middle;\n",
       "    }\n",
       "\n",
       "    .dataframe tbody tr th {\n",
       "        vertical-align: top;\n",
       "    }\n",
       "\n",
       "    .dataframe thead th {\n",
       "        text-align: right;\n",
       "    }\n",
       "</style>\n",
       "<table border=\"1\" class=\"dataframe\">\n",
       "  <thead>\n",
       "    <tr style=\"text-align: right;\">\n",
       "      <th></th>\n",
       "      <th>Unnamed: 0</th>\n",
       "      <th>City</th>\n",
       "      <th>Country</th>\n",
       "      <th>Max Temp</th>\n",
       "      <th>Current Desription</th>\n",
       "      <th>Lat</th>\n",
       "      <th>Lng</th>\n",
       "      <th>Hotel Name</th>\n",
       "    </tr>\n",
       "  </thead>\n",
       "  <tbody>\n",
       "    <tr>\n",
       "      <th>0</th>\n",
       "      <td>0</td>\n",
       "      <td>Majene</td>\n",
       "      <td>ID</td>\n",
       "      <td>78.19</td>\n",
       "      <td>overcast clouds</td>\n",
       "      <td>-3.54</td>\n",
       "      <td>118.97</td>\n",
       "      <td>Kost Putri RABBANI</td>\n",
       "    </tr>\n",
       "    <tr>\n",
       "      <th>1</th>\n",
       "      <td>1</td>\n",
       "      <td>Albany</td>\n",
       "      <td>US</td>\n",
       "      <td>84.00</td>\n",
       "      <td>broken clouds</td>\n",
       "      <td>42.60</td>\n",
       "      <td>-73.97</td>\n",
       "      <td>NaN</td>\n",
       "    </tr>\n",
       "    <tr>\n",
       "      <th>2</th>\n",
       "      <td>7</td>\n",
       "      <td>Sapouy</td>\n",
       "      <td>BF</td>\n",
       "      <td>84.40</td>\n",
       "      <td>overcast clouds</td>\n",
       "      <td>11.55</td>\n",
       "      <td>-1.77</td>\n",
       "      <td>Auberge St Louis</td>\n",
       "    </tr>\n",
       "    <tr>\n",
       "      <th>3</th>\n",
       "      <td>13</td>\n",
       "      <td>Itarema</td>\n",
       "      <td>BR</td>\n",
       "      <td>85.48</td>\n",
       "      <td>scattered clouds</td>\n",
       "      <td>-2.92</td>\n",
       "      <td>-39.92</td>\n",
       "      <td>Windvillage</td>\n",
       "    </tr>\n",
       "    <tr>\n",
       "      <th>4</th>\n",
       "      <td>14</td>\n",
       "      <td>Ambulu</td>\n",
       "      <td>ID</td>\n",
       "      <td>76.01</td>\n",
       "      <td>overcast clouds</td>\n",
       "      <td>-8.35</td>\n",
       "      <td>113.61</td>\n",
       "      <td>Hotel Ambulu Jember</td>\n",
       "    </tr>\n",
       "  </tbody>\n",
       "</table>\n",
       "</div>"
      ],
      "text/plain": [
       "   Unnamed: 0     City Country  Max Temp Current Desription    Lat     Lng  \\\n",
       "0           0   Majene      ID     78.19    overcast clouds  -3.54  118.97   \n",
       "1           1   Albany      US     84.00      broken clouds  42.60  -73.97   \n",
       "2           7   Sapouy      BF     84.40    overcast clouds  11.55   -1.77   \n",
       "3          13  Itarema      BR     85.48   scattered clouds  -2.92  -39.92   \n",
       "4          14   Ambulu      ID     76.01    overcast clouds  -8.35  113.61   \n",
       "\n",
       "            Hotel Name  \n",
       "0   Kost Putri RABBANI  \n",
       "1                  NaN  \n",
       "2     Auberge St Louis  \n",
       "3          Windvillage  \n",
       "4  Hotel Ambulu Jember  "
      ]
     },
     "execution_count": 3,
     "metadata": {},
     "output_type": "execute_result"
    }
   ],
   "source": [
    "# Store the CSV you saved created in part one into a DataFrame.\n",
    "city_data_df = pd.read_csv(\"WeatherPy_vacation.csv\")\n",
    "city_data_df.head()"
   ]
  },
  {
   "cell_type": "code",
   "execution_count": 4,
   "metadata": {},
   "outputs": [],
   "source": [
    "city1DF = city_data_df.loc[(city_data_df[\"City\"]==\"Abilene\")]\n",
    "AbileneDF = city1DF[[\"City\", \"Country\", \"Max Temp\", \"Current Desription\", \"Lat\", \"Lng\", \"Hotel Name\"]].copy()\n",
    "\n",
    "city2DF = city_data_df.loc[(city_data_df[\"City\"]==\"Aransas Pass\")]\n",
    "AransasPassDF = city2DF[[\"City\", \"Country\", \"Max Temp\", \"Current Desription\", \"Lat\", \"Lng\", \"Hotel Name\"]].copy()\n",
    "\n",
    "city3DF = city_data_df.loc[(city_data_df[\"City\"]==\"Camargo\")]\n",
    "CamargoDF = city3DF[[\"City\", \"Country\", \"Max Temp\", \"Current Desription\", \"Lat\", \"Lng\", \"Hotel Name\"]].copy()\n",
    "\n",
    "city4DF = city_data_df.loc[(city_data_df[\"City\"]==\"Ruidoso\")]\n",
    "RuidosoDF = city4DF[[\"City\", \"Country\", \"Max Temp\", \"Current Desription\", \"Lat\", \"Lng\", \"Hotel Name\"]].copy()"
   ]
  },
  {
   "cell_type": "code",
   "execution_count": 5,
   "metadata": {},
   "outputs": [],
   "source": [
    "AbileneTup = tuple(AbileneDF.to_numpy()[0][4:6])\n",
    "AransasPassTup = tuple(AransasPassDF.to_numpy()[0][4:6])\n",
    "CamargoTup = tuple(CamargoDF.to_numpy()[0][4:6])\n",
    "RuidosoTup = tuple(RuidosoDF.to_numpy()[0][4:6])"
   ]
  },
  {
   "cell_type": "code",
   "execution_count": 6,
   "metadata": {},
   "outputs": [
    {
     "data": {
      "text/html": [
       "<div>\n",
       "<style scoped>\n",
       "    .dataframe tbody tr th:only-of-type {\n",
       "        vertical-align: middle;\n",
       "    }\n",
       "\n",
       "    .dataframe tbody tr th {\n",
       "        vertical-align: top;\n",
       "    }\n",
       "\n",
       "    .dataframe thead th {\n",
       "        text-align: right;\n",
       "    }\n",
       "</style>\n",
       "<table border=\"1\" class=\"dataframe\">\n",
       "  <thead>\n",
       "    <tr style=\"text-align: right;\">\n",
       "      <th></th>\n",
       "      <th>City</th>\n",
       "      <th>Country</th>\n",
       "      <th>Max Temp</th>\n",
       "      <th>Current Desription</th>\n",
       "      <th>Lat</th>\n",
       "      <th>Lng</th>\n",
       "      <th>Hotel Name</th>\n",
       "    </tr>\n",
       "  </thead>\n",
       "  <tbody>\n",
       "    <tr>\n",
       "      <th>87</th>\n",
       "      <td>Abilene</td>\n",
       "      <td>US</td>\n",
       "      <td>86.00</td>\n",
       "      <td>clear sky</td>\n",
       "      <td>32.45</td>\n",
       "      <td>-99.73</td>\n",
       "      <td>La Quinta Inn by Wyndham Abilene</td>\n",
       "    </tr>\n",
       "    <tr>\n",
       "      <th>161</th>\n",
       "      <td>Aransas Pass</td>\n",
       "      <td>US</td>\n",
       "      <td>87.80</td>\n",
       "      <td>broken clouds</td>\n",
       "      <td>27.91</td>\n",
       "      <td>-97.15</td>\n",
       "      <td>Microtel Inn &amp; Suites by Wyndham Aransas Pass/...</td>\n",
       "    </tr>\n",
       "    <tr>\n",
       "      <th>46</th>\n",
       "      <td>Camargo</td>\n",
       "      <td>MX</td>\n",
       "      <td>83.05</td>\n",
       "      <td>few clouds</td>\n",
       "      <td>27.67</td>\n",
       "      <td>-105.17</td>\n",
       "      <td>Hotel Santa Fe</td>\n",
       "    </tr>\n",
       "    <tr>\n",
       "      <th>199</th>\n",
       "      <td>Ruidoso</td>\n",
       "      <td>US</td>\n",
       "      <td>80.60</td>\n",
       "      <td>clear sky</td>\n",
       "      <td>33.33</td>\n",
       "      <td>-105.67</td>\n",
       "      <td>Inn of the Mountain Gods</td>\n",
       "    </tr>\n",
       "  </tbody>\n",
       "</table>\n",
       "</div>"
      ],
      "text/plain": [
       "             City Country  Max Temp Current Desription    Lat     Lng  \\\n",
       "87        Abilene      US     86.00          clear sky  32.45  -99.73   \n",
       "161  Aransas Pass      US     87.80      broken clouds  27.91  -97.15   \n",
       "46        Camargo      MX     83.05         few clouds  27.67 -105.17   \n",
       "199       Ruidoso      US     80.60          clear sky  33.33 -105.67   \n",
       "\n",
       "                                            Hotel Name  \n",
       "87                    La Quinta Inn by Wyndham Abilene  \n",
       "161  Microtel Inn & Suites by Wyndham Aransas Pass/...  \n",
       "46                                      Hotel Santa Fe  \n",
       "199                           Inn of the Mountain Gods  "
      ]
     },
     "execution_count": 6,
     "metadata": {},
     "output_type": "execute_result"
    }
   ],
   "source": [
    "itineraryDF = pd.concat([AbileneDF, AransasPassDF, CamargoDF, RuidosoDF])\n",
    "itineraryDF"
   ]
  },
  {
   "cell_type": "code",
   "execution_count": 7,
   "metadata": {},
   "outputs": [],
   "source": [
    "# Get the maximum temperature.\n",
    "max_temp = itineraryDF[\"Max Temp\"]\n",
    "temps = []\n",
    "for temp in max_temp:\n",
    "    temps.append(max(temp, 0))"
   ]
  },
  {
   "cell_type": "code",
   "execution_count": 14,
   "metadata": {},
   "outputs": [],
   "source": [
    "info_box_template = \"\"\"\n",
    "<dl>\n",
    "<dt>Hotel Name</dt><dd>{Hotel Name}</dd>\n",
    "<dt>City</dt><dd>{City}</dd>\n",
    "<dt>Country</dt><dd>{Country}</dd>\n",
    "<dt>Current Weather</dt><dd>{Current Desription} and {Max Temp}°F</dd>\n",
    "</dl>\n",
    "\"\"\""
   ]
  },
  {
   "cell_type": "code",
   "execution_count": 15,
   "metadata": {},
   "outputs": [],
   "source": [
    "hotel_info = [info_box_template.format(**row) for index, row in itineraryDF.iterrows()]"
   ]
  },
  {
   "cell_type": "code",
   "execution_count": 18,
   "metadata": {
    "scrolled": true
   },
   "outputs": [
    {
     "data": {
      "application/vnd.jupyter.widget-view+json": {
       "model_id": "b7fb97fba1b149edb0a3163386341b89",
       "version_major": 2,
       "version_minor": 0
      },
      "text/plain": [
       "Figure(layout=FigureLayout(height='420px'))"
      ]
     },
     "metadata": {},
     "output_type": "display_data"
    }
   ],
   "source": [
    "# add heatmap of temp for vacation spots\n",
    "locations = itineraryDF[[\"Lat\", \"Lng\"]]\n",
    "max_temp = itineraryDF[\"Max Temp\"]\n",
    "fig = gmaps.figure(center=(30.0,31.0), zoom_level=1.5)\n",
    "\n",
    "travelRoute = gmaps.directions_layer((AransasPassTup),(AbileneTup), waypoints=[(CamargoTup), (RuidosoTup)], travel_mode='DRIVING')\n",
    "\n",
    "fig.add_layer(travelRoute)\n",
    "\n",
    "fig"
   ]
  },
  {
   "cell_type": "code",
   "execution_count": 21,
   "metadata": {
    "scrolled": true
   },
   "outputs": [
    {
     "data": {
      "application/vnd.jupyter.widget-view+json": {
       "model_id": "41dd10fa7ec3442880afa6ab9a3ab012",
       "version_major": 2,
       "version_minor": 0
      },
      "text/plain": [
       "Figure(layout=FigureLayout(height='420px'))"
      ]
     },
     "metadata": {},
     "output_type": "display_data"
    }
   ],
   "source": [
    "# add heatmap of temp for vacation spots\n",
    "locations = itineraryDF[[\"Lat\", \"Lng\"]]\n",
    "max_temp = itineraryDF[\"Max Temp\"]\n",
    "fig = gmaps.figure(center=(30.0,31.0), zoom_level=.5)\n",
    "\n",
    "marker_layer = gmaps.marker_layer(locations, info_box_content=hotel_info)\n",
    "\n",
    "fig.add_layer(marker_layer)\n",
    "\n",
    "fig"
   ]
  },
  {
   "cell_type": "code",
   "execution_count": null,
   "metadata": {},
   "outputs": [],
   "source": []
  }
 ],
 "metadata": {
  "kernelspec": {
   "display_name": "PythonData",
   "language": "python",
   "name": "pythondata"
  },
  "language_info": {
   "codemirror_mode": {
    "name": "ipython",
    "version": 3
   },
   "file_extension": ".py",
   "mimetype": "text/x-python",
   "name": "python",
   "nbconvert_exporter": "python",
   "pygments_lexer": "ipython3",
   "version": "3.8.1"
  }
 },
 "nbformat": 4,
 "nbformat_minor": 4
}
